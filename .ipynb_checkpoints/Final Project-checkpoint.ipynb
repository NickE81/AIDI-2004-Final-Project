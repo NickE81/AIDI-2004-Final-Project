{
 "cells": [
  {
   "cell_type": "code",
   "execution_count": 54,
   "metadata": {},
   "outputs": [],
   "source": [
    "# Import necessary packages\n",
    "import pandas as pd\n",
    "import re\n",
    "from tensorflow.python.keras.preprocessing.text import Tokenizer\n",
    "from tensorflow.python.keras.preprocessing.sequence import pad_sequences\n",
    "from sklearn.model_selection import train_test_split\n",
    "import pickle\n",
    "from keras.models import Sequential, load_model\n",
    "from keras.layers import Dense, Embedding, LSTM\n",
    "from keras.optimizers import Adam\n",
    "import matplotlib.pyplot as plt\n",
    "from os import getcwd, path"
   ]
  },
  {
   "cell_type": "code",
   "execution_count": 2,
   "metadata": {},
   "outputs": [
    {
     "data": {
      "text/html": [
       "<div>\n",
       "<style scoped>\n",
       "    .dataframe tbody tr th:only-of-type {\n",
       "        vertical-align: middle;\n",
       "    }\n",
       "\n",
       "    .dataframe tbody tr th {\n",
       "        vertical-align: top;\n",
       "    }\n",
       "\n",
       "    .dataframe thead th {\n",
       "        text-align: right;\n",
       "    }\n",
       "</style>\n",
       "<table border=\"1\" class=\"dataframe\">\n",
       "  <thead>\n",
       "    <tr style=\"text-align: right;\">\n",
       "      <th></th>\n",
       "      <th>Freshness</th>\n",
       "      <th>Review</th>\n",
       "    </tr>\n",
       "  </thead>\n",
       "  <tbody>\n",
       "    <tr>\n",
       "      <th>0</th>\n",
       "      <td>fresh</td>\n",
       "      <td>Manakamana doesn't answer any questions, yet ...</td>\n",
       "    </tr>\n",
       "    <tr>\n",
       "      <th>1</th>\n",
       "      <td>fresh</td>\n",
       "      <td>Wilfully offensive and powered by a chest-thu...</td>\n",
       "    </tr>\n",
       "    <tr>\n",
       "      <th>2</th>\n",
       "      <td>rotten</td>\n",
       "      <td>It would be difficult to imagine material mor...</td>\n",
       "    </tr>\n",
       "    <tr>\n",
       "      <th>3</th>\n",
       "      <td>rotten</td>\n",
       "      <td>Despite the gusto its star brings to the role...</td>\n",
       "    </tr>\n",
       "    <tr>\n",
       "      <th>4</th>\n",
       "      <td>rotten</td>\n",
       "      <td>If there was a good idea at the core of this ...</td>\n",
       "    </tr>\n",
       "    <tr>\n",
       "      <th>...</th>\n",
       "      <td>...</td>\n",
       "      <td>...</td>\n",
       "    </tr>\n",
       "    <tr>\n",
       "      <th>479995</th>\n",
       "      <td>rotten</td>\n",
       "      <td>Zemeckis seems unable to admit that the motio...</td>\n",
       "    </tr>\n",
       "    <tr>\n",
       "      <th>479996</th>\n",
       "      <td>fresh</td>\n",
       "      <td>Movies like The Kids Are All Right -- beautif...</td>\n",
       "    </tr>\n",
       "    <tr>\n",
       "      <th>479997</th>\n",
       "      <td>rotten</td>\n",
       "      <td>Film-savvy audiences soon will catch onto Win...</td>\n",
       "    </tr>\n",
       "    <tr>\n",
       "      <th>479998</th>\n",
       "      <td>fresh</td>\n",
       "      <td>An odd yet enjoyable film.</td>\n",
       "    </tr>\n",
       "    <tr>\n",
       "      <th>479999</th>\n",
       "      <td>fresh</td>\n",
       "      <td>No other animation studio, even our beloved P...</td>\n",
       "    </tr>\n",
       "  </tbody>\n",
       "</table>\n",
       "<p>480000 rows × 2 columns</p>\n",
       "</div>"
      ],
      "text/plain": [
       "       Freshness                                             Review\n",
       "0          fresh   Manakamana doesn't answer any questions, yet ...\n",
       "1          fresh   Wilfully offensive and powered by a chest-thu...\n",
       "2         rotten   It would be difficult to imagine material mor...\n",
       "3         rotten   Despite the gusto its star brings to the role...\n",
       "4         rotten   If there was a good idea at the core of this ...\n",
       "...          ...                                                ...\n",
       "479995    rotten   Zemeckis seems unable to admit that the motio...\n",
       "479996     fresh   Movies like The Kids Are All Right -- beautif...\n",
       "479997    rotten   Film-savvy audiences soon will catch onto Win...\n",
       "479998     fresh                        An odd yet enjoyable film. \n",
       "479999     fresh   No other animation studio, even our beloved P...\n",
       "\n",
       "[480000 rows x 2 columns]"
      ]
     },
     "execution_count": 2,
     "metadata": {},
     "output_type": "execute_result"
    }
   ],
   "source": [
    "# Read the datafile and display its contents\n",
    "data = pd.read_csv(\"rt_reviews.csv\", encoding = 'iso-8859-1')\n",
    "data"
   ]
  },
  {
   "cell_type": "code",
   "execution_count": 3,
   "metadata": {},
   "outputs": [
    {
     "data": {
      "text/html": [
       "<div>\n",
       "<style scoped>\n",
       "    .dataframe tbody tr th:only-of-type {\n",
       "        vertical-align: middle;\n",
       "    }\n",
       "\n",
       "    .dataframe tbody tr th {\n",
       "        vertical-align: top;\n",
       "    }\n",
       "\n",
       "    .dataframe thead th {\n",
       "        text-align: right;\n",
       "    }\n",
       "</style>\n",
       "<table border=\"1\" class=\"dataframe\">\n",
       "  <thead>\n",
       "    <tr style=\"text-align: right;\">\n",
       "      <th></th>\n",
       "      <th>Review</th>\n",
       "    </tr>\n",
       "    <tr>\n",
       "      <th>Freshness</th>\n",
       "      <th></th>\n",
       "    </tr>\n",
       "  </thead>\n",
       "  <tbody>\n",
       "    <tr>\n",
       "      <th>fresh</th>\n",
       "      <td>240000</td>\n",
       "    </tr>\n",
       "    <tr>\n",
       "      <th>rotten</th>\n",
       "      <td>240000</td>\n",
       "    </tr>\n",
       "  </tbody>\n",
       "</table>\n",
       "</div>"
      ],
      "text/plain": [
       "           Review\n",
       "Freshness        \n",
       "fresh      240000\n",
       "rotten     240000"
      ]
     },
     "execution_count": 3,
     "metadata": {},
     "output_type": "execute_result"
    }
   ],
   "source": [
    "# Display the counts of each freshness\n",
    "data.groupby([\"Freshness\"]).count()"
   ]
  },
  {
   "cell_type": "markdown",
   "metadata": {},
   "source": [
    "<h3>Each freshness has at 240000 records, meaning the dataset is perfectly balanced.</h3>"
   ]
  },
  {
   "cell_type": "code",
   "execution_count": 4,
   "metadata": {
    "scrolled": false
   },
   "outputs": [
    {
     "data": {
      "text/html": [
       "<div>\n",
       "<style scoped>\n",
       "    .dataframe tbody tr th:only-of-type {\n",
       "        vertical-align: middle;\n",
       "    }\n",
       "\n",
       "    .dataframe tbody tr th {\n",
       "        vertical-align: top;\n",
       "    }\n",
       "\n",
       "    .dataframe thead th {\n",
       "        text-align: right;\n",
       "    }\n",
       "</style>\n",
       "<table border=\"1\" class=\"dataframe\">\n",
       "  <thead>\n",
       "    <tr style=\"text-align: right;\">\n",
       "      <th></th>\n",
       "      <th>Review</th>\n",
       "      <th>Label</th>\n",
       "    </tr>\n",
       "  </thead>\n",
       "  <tbody>\n",
       "    <tr>\n",
       "      <th>0</th>\n",
       "      <td>Manakamana doesn't answer any questions, yet ...</td>\n",
       "      <td>1</td>\n",
       "    </tr>\n",
       "    <tr>\n",
       "      <th>1</th>\n",
       "      <td>Wilfully offensive and powered by a chest-thu...</td>\n",
       "      <td>1</td>\n",
       "    </tr>\n",
       "    <tr>\n",
       "      <th>2</th>\n",
       "      <td>It would be difficult to imagine material mor...</td>\n",
       "      <td>0</td>\n",
       "    </tr>\n",
       "    <tr>\n",
       "      <th>3</th>\n",
       "      <td>Despite the gusto its star brings to the role...</td>\n",
       "      <td>0</td>\n",
       "    </tr>\n",
       "    <tr>\n",
       "      <th>4</th>\n",
       "      <td>If there was a good idea at the core of this ...</td>\n",
       "      <td>0</td>\n",
       "    </tr>\n",
       "    <tr>\n",
       "      <th>...</th>\n",
       "      <td>...</td>\n",
       "      <td>...</td>\n",
       "    </tr>\n",
       "    <tr>\n",
       "      <th>479995</th>\n",
       "      <td>Zemeckis seems unable to admit that the motio...</td>\n",
       "      <td>0</td>\n",
       "    </tr>\n",
       "    <tr>\n",
       "      <th>479996</th>\n",
       "      <td>Movies like The Kids Are All Right -- beautif...</td>\n",
       "      <td>1</td>\n",
       "    </tr>\n",
       "    <tr>\n",
       "      <th>479997</th>\n",
       "      <td>Film-savvy audiences soon will catch onto Win...</td>\n",
       "      <td>0</td>\n",
       "    </tr>\n",
       "    <tr>\n",
       "      <th>479998</th>\n",
       "      <td>An odd yet enjoyable film.</td>\n",
       "      <td>1</td>\n",
       "    </tr>\n",
       "    <tr>\n",
       "      <th>479999</th>\n",
       "      <td>No other animation studio, even our beloved P...</td>\n",
       "      <td>1</td>\n",
       "    </tr>\n",
       "  </tbody>\n",
       "</table>\n",
       "<p>480000 rows × 2 columns</p>\n",
       "</div>"
      ],
      "text/plain": [
       "                                                   Review  Label\n",
       "0        Manakamana doesn't answer any questions, yet ...      1\n",
       "1        Wilfully offensive and powered by a chest-thu...      1\n",
       "2        It would be difficult to imagine material mor...      0\n",
       "3        Despite the gusto its star brings to the role...      0\n",
       "4        If there was a good idea at the core of this ...      0\n",
       "...                                                   ...    ...\n",
       "479995   Zemeckis seems unable to admit that the motio...      0\n",
       "479996   Movies like The Kids Are All Right -- beautif...      1\n",
       "479997   Film-savvy audiences soon will catch onto Win...      0\n",
       "479998                        An odd yet enjoyable film.       1\n",
       "479999   No other animation studio, even our beloved P...      1\n",
       "\n",
       "[480000 rows x 2 columns]"
      ]
     },
     "execution_count": 4,
     "metadata": {},
     "output_type": "execute_result"
    }
   ],
   "source": [
    "# Data preprocessing\n",
    "# Rename the column freshness to label\n",
    "data.columns = [\"Label\", \"Review\"]\n",
    "# Reorder the columns review first and label second\n",
    "data = data[[\"Review\", \"Label\"]]\n",
    "# Replace the fresh and rotten label with 1 and 0 respectively for binary classification\n",
    "data[\"Label\"] = data[\"Label\"].replace(\"fresh\", 1).replace(\"rotten\", 0)\n",
    "data"
   ]
  },
  {
   "cell_type": "code",
   "execution_count": 5,
   "metadata": {},
   "outputs": [],
   "source": [
    "# Split data into input and output lists\n",
    "X = data.iloc[:, 0]\n",
    "y = data.iloc[:, 1]"
   ]
  },
  {
   "cell_type": "code",
   "execution_count": 6,
   "metadata": {},
   "outputs": [],
   "source": [
    "# Make the data lowercase\n",
    "X = X.str.lower()"
   ]
  },
  {
   "cell_type": "markdown",
   "metadata": {},
   "source": [
    "<h3>There is no need to remove non-alphanumeric characters when using tensorflow tokenizer, because it filters those characters automatically</h3>"
   ]
  },
  {
   "cell_type": "code",
   "execution_count": 7,
   "metadata": {
    "scrolled": true
   },
   "outputs": [
    {
     "data": {
      "text/plain": [
       "0          manakamana doesn't answer any questions, yet ...\n",
       "1          wilfully offensive and powered by a chest-thu...\n",
       "2          it would be difficult to imagine material mor...\n",
       "3          despite the gusto its star brings to the role...\n",
       "4          if there was a good idea at the core of this ...\n",
       "                                ...                        \n",
       "479995     zemeckis seems unable to admit that the motio...\n",
       "479996     movies like the kids are all right -- beautif...\n",
       "479997     film-savvy audiences soon will catch onto win...\n",
       "479998                          an odd yet enjoyable film. \n",
       "479999     no other animation studio, even our beloved p...\n",
       "Name: Review, Length: 480000, dtype: object"
      ]
     },
     "execution_count": 7,
     "metadata": {},
     "output_type": "execute_result"
    }
   ],
   "source": [
    "# Display the adjusted data\n",
    "X"
   ]
  },
  {
   "cell_type": "code",
   "execution_count": null,
   "metadata": {},
   "outputs": [],
   "source": [
    "# Create a tokenizer object and fit it on the data\n",
    "token_obj = Tokenizer()\n",
    "token_obj.fit_on_texts(X)"
   ]
  },
  {
   "cell_type": "code",
   "execution_count": null,
   "metadata": {},
   "outputs": [],
   "source": [
    "# Save the tokenizer for use with prediction later\n",
    "with open('tokenizer.pkl', 'wb') as handle:\n",
    "    pickle.dump(token_obj, handle, protocol=pickle.HIGHEST_PROTOCOL)"
   ]
  },
  {
   "cell_type": "code",
   "execution_count": 8,
   "metadata": {},
   "outputs": [],
   "source": [
    "# Load the tokenizer\n",
    "with open('tokenizer.pkl', 'rb') as handle:\n",
    "    token_obj = pickle.load(handle)"
   ]
  },
  {
   "cell_type": "code",
   "execution_count": 9,
   "metadata": {},
   "outputs": [],
   "source": [
    "# Split the data into 75% training and 25% test sets\n",
    "X_train, X_test, y_train, y_test = train_test_split(X, y, test_size = 0.25, random_state = 23)"
   ]
  },
  {
   "cell_type": "code",
   "execution_count": 10,
   "metadata": {},
   "outputs": [],
   "source": [
    "# Tokenize the training and test inputs\n",
    "X_train_tokens = token_obj.texts_to_sequences(X_train)\n",
    "X_test_tokens = token_obj.texts_to_sequences(X_test)"
   ]
  },
  {
   "cell_type": "code",
   "execution_count": 11,
   "metadata": {},
   "outputs": [],
   "source": [
    "# Define the maximum length of a review for padding, and find the vocabulary size\n",
    "MAX_LENGTH = 50\n",
    "vocab_size = len(token_obj.word_index) + 1"
   ]
  },
  {
   "cell_type": "code",
   "execution_count": 12,
   "metadata": {},
   "outputs": [
    {
     "data": {
      "text/plain": [
       "102046"
      ]
     },
     "execution_count": 12,
     "metadata": {},
     "output_type": "execute_result"
    }
   ],
   "source": [
    "# Display the size of the vocabulary, there are 102046 unique words\n",
    "vocab_size"
   ]
  },
  {
   "cell_type": "code",
   "execution_count": 13,
   "metadata": {},
   "outputs": [],
   "source": [
    "# Pad the training and test input sets\n",
    "X_train_pad = pad_sequences(X_train_tokens, maxlen = MAX_LENGTH, padding = \"post\")\n",
    "X_test_pad = pad_sequences(X_test_tokens, maxlen = MAX_LENGTH, padding = \"post\")"
   ]
  },
  {
   "cell_type": "code",
   "execution_count": 14,
   "metadata": {},
   "outputs": [],
   "source": [
    "# Set the embedding dimension, this is how many features will be learned for each word\n",
    "EMBEDDING_DIM = 50"
   ]
  },
  {
   "cell_type": "code",
   "execution_count": 81,
   "metadata": {},
   "outputs": [],
   "source": [
    "# Build our sentiment analysis model\n",
    "model = Sequential()\n",
    "model.add(Embedding(vocab_size, EMBEDDING_DIM, input_length = MAX_LENGTH))\n",
    "model.add(LSTM(16, return_sequences = True))\n",
    "model.add(LSTM(16, return_sequences = True))\n",
    "model.add(LSTM(16))\n",
    "model.add(Dense(1, activation = 'sigmoid'))"
   ]
  },
  {
   "cell_type": "code",
   "execution_count": 82,
   "metadata": {},
   "outputs": [
    {
     "name": "stdout",
     "output_type": "stream",
     "text": [
      "Model: \"sequential_7\"\n",
      "_________________________________________________________________\n",
      "Layer (type)                 Output Shape              Param #   \n",
      "=================================================================\n",
      "embedding_7 (Embedding)      (None, 50, 50)            5102300   \n",
      "_________________________________________________________________\n",
      "lstm_12 (LSTM)               (None, 50, 16)            4288      \n",
      "_________________________________________________________________\n",
      "lstm_13 (LSTM)               (None, 50, 16)            2112      \n",
      "_________________________________________________________________\n",
      "lstm_14 (LSTM)               (None, 16)                2112      \n",
      "_________________________________________________________________\n",
      "dense_5 (Dense)              (None, 1)                 17        \n",
      "=================================================================\n",
      "Total params: 5,110,829\n",
      "Trainable params: 5,110,829\n",
      "Non-trainable params: 0\n",
      "_________________________________________________________________\n"
     ]
    }
   ],
   "source": [
    "model.summary()"
   ]
  },
  {
   "cell_type": "code",
   "execution_count": 83,
   "metadata": {},
   "outputs": [],
   "source": [
    "# Set the Adam optimizer and compile the model\n",
    "opt = Adam(learning_rate = 0.001)\n",
    "model.compile(loss = 'binary_crossentropy', optimizer = opt, metrics = ['accuracy'])"
   ]
  },
  {
   "cell_type": "code",
   "execution_count": null,
   "metadata": {},
   "outputs": [
    {
     "name": "stdout",
     "output_type": "stream",
     "text": [
      "Epoch 1/10\n",
      " 66/360 [====>.........................] - ETA: 1:52 - loss: 0.6741 - accuracy: 0.5542"
     ]
    }
   ],
   "source": [
    "# Fit the model on the training data\n",
    "hist = model.fit(X_train_pad, y_train, batch_size = 1000, epochs = 10, validation_data = (X_test_pad, y_test), verbose = 1).history"
   ]
  },
  {
   "cell_type": "code",
   "execution_count": 77,
   "metadata": {},
   "outputs": [],
   "source": [
    "# Get current working directory\n",
    "cwd = getcwd()"
   ]
  },
  {
   "cell_type": "code",
   "execution_count": 78,
   "metadata": {
    "scrolled": false
   },
   "outputs": [],
   "source": [
    "# Save model in an h5 file\n",
    "model_path = path.join(cwd,'models', 'model-3_layer_16-lr_001.h5')\n",
    "model.save(model_path)"
   ]
  },
  {
   "cell_type": "code",
   "execution_count": 79,
   "metadata": {},
   "outputs": [],
   "source": [
    "# Save history in a pickle file\n",
    "hist_path = path.join(cwd, 'histories', 'hist-3_layer_16-lr_001.pkl')\n",
    "pickle.dump(hist, open(hist_path, 'wb'))"
   ]
  },
  {
   "cell_type": "code",
   "execution_count": 80,
   "metadata": {},
   "outputs": [
    {
     "data": {
      "image/png": "[encoded data removed]",
      "text/plain": [
       "<Figure size 432x288 with 1 Axes>"
      ]
     },
     "metadata": {
      "needs_background": "light"
     },
     "output_type": "display_data"
    }
   ],
   "source": [
    "# Save graph in a jpg file\n",
    "plt.plot(hist['accuracy'])\n",
    "plt.plot(hist['val_accuracy'])\n",
    "plt.title('Accuracy of next word prediction model')\n",
    "plt.ylabel('Accuracy')\n",
    "plt.xlabel('Epoch')\n",
    "plt.ylim([0, 1])\n",
    "plt.legend(['train', 'test'])\n",
    "plt.savefig('graphs/graph-3_layer_16-lr_001.jpg')"
   ]
  },
  {
   "cell_type": "code",
   "execution_count": 52,
   "metadata": {},
   "outputs": [],
   "source": [
    "# Function for getting the sentiment scores of tweets\n",
    "def predict_sentiment(data):\n",
    "    results = []\n",
    "    # Make all data lowercase\n",
    "    data_lower = [i.lower() for i in data]\n",
    "    # Tokenize the data\n",
    "    data_tokens = token_obj.texts_to_sequences(data_lower)\n",
    "    # Pad the data to make it the correct length\n",
    "    data_pad = pad_sequences(data_tokens, maxlen = MAX_LENGTH, padding = 'post')\n",
    "    # Get the sentiment score\n",
    "    scores = model.predict(data_pad)\n",
    "    # For each sentence\n",
    "    for i in range(len(data)):\n",
    "        # If the score is above 0.5\n",
    "        if scores[i][0] >= 0.5:\n",
    "            # The sentiment is positive\n",
    "            result = 'FRESH'\n",
    "        # Otherwise, meaning it is below 0.5\n",
    "        else:\n",
    "            # The sentiment is negative\n",
    "            result = 'ROTTEN'\n",
    "        # Print the sentence, its sentiment, and the sentiment score\n",
    "        print(\"The sentiment of the sentence \\\"\" + data[i] + \"\\\" is\", result, \"with a score of\", scores[i][0])"
   ]
  },
  {
   "cell_type": "code",
   "execution_count": null,
   "metadata": {},
   "outputs": [],
   "source": []
  }
 ],
 "metadata": {
  "kernelspec": {
   "display_name": "Python 3",
   "language": "python",
   "name": "python3"
  },
  "language_info": {
   "codemirror_mode": {
    "name": "ipython",
    "version": 3
   },
   "file_extension": ".py",
   "mimetype": "text/x-python",
   "name": "python",
   "nbconvert_exporter": "python",
   "pygments_lexer": "ipython3",
   "version": "3.7.6"
  }
 },
 "nbformat": 4,
 "nbformat_minor": 4
}
